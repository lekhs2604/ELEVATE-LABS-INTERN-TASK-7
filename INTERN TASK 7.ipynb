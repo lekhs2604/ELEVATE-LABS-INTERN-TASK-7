{
 "cells": [
  {
   "cell_type": "markdown",
   "id": "21afb68d-15be-4bbb-bbea-6b72a392ca7e",
   "metadata": {},
   "source": [
    "#### SQL INTO PYTHON"
   ]
  },
  {
   "cell_type": "code",
   "execution_count": 1,
   "id": "18b3306c-eb5a-4eab-a9f0-d6abf7c8e42a",
   "metadata": {},
   "outputs": [],
   "source": [
    "import sqlite3\n",
    "import pandas as pd\n",
    "import matplotlib.pyplot as plt"
   ]
  },
  {
   "cell_type": "code",
   "execution_count": 2,
   "id": "4de64bfd-0b1a-4ffb-b82c-cc1f1ba5a5d3",
   "metadata": {},
   "outputs": [
    {
     "name": "stdout",
     "output_type": "stream",
     "text": [
      "--- Starting Database Setup ---\n"
     ]
    }
   ],
   "source": [
    "print(\"--- Starting Database Setup ---\")"
   ]
  },
  {
   "cell_type": "code",
   "execution_count": 3,
   "id": "8ce16200-c2d8-46b9-84f7-d0dc1b158a98",
   "metadata": {},
   "outputs": [],
   "source": [
    "conn = sqlite3.connect('sales_data.db')\n",
    "cursor = conn.cursor()"
   ]
  },
  {
   "cell_type": "code",
   "execution_count": 5,
   "id": "a3210bfa-eafe-4b88-b01c-ed80abc42565",
   "metadata": {},
   "outputs": [
    {
     "name": "stdout",
     "output_type": "stream",
     "text": [
      "Sample data inserted successfully.\n"
     ]
    }
   ],
   "source": [
    "cursor.execute('''\n",
    "    CREATE TABLE IF NOT EXISTS sales (\n",
    "        ID INTEGER PRIMARY KEY AUTOINCREMENT,\n",
    "        Product TEXT NOT NULL,\n",
    "        Country TEXT NOT NULL,\n",
    "        Quantity INTEGER NOT NULL,\n",
    "        Price REAL NOT NULL\n",
    "    )\n",
    "''')\n",
    "sample_data = [\n",
    "    ('Laptop',\"africa\", 27, 4200.00),\n",
    "    ('Mouse',\"america\", 5, 25.50),\n",
    "    ('Keyboard',\"asia\", 3, 75.00),\n",
    "    ('Monitor',\"UK\", 7, 120.00),\n",
    "    ('Laptop',\"Iceland\", 1, 1200.00),\n",
    "]\n",
    "cursor.executemany(\"INSERT INTO sales (Product, Country, Quantity, Price) VALUES (?, ?, ?, ?)\", sample_data)\n",
    "conn.commit()\n",
    "print(\"Sample data inserted successfully.\")"
   ]
  },
  {
   "cell_type": "code",
   "execution_count": 6,
   "id": "74e84898-31d3-4eb2-aeb7-4b8540c6a325",
   "metadata": {},
   "outputs": [],
   "source": [
    "query = \"\"\"\n",
    "    SELECT\n",
    "        Product,\n",
    "        SUM(Quantity) AS total_qty,\n",
    "        SUM(Quantity * Price) AS total_revenue\n",
    "    FROM\n",
    "        sales\n",
    "    GROUP BY\n",
    "        Product\n",
    "    ORDER BY\n",
    "        total_revenue DESC\n",
    "\"\"\"\n"
   ]
  },
  {
   "cell_type": "code",
   "execution_count": 7,
   "id": "d8ae7e7e-68ee-494e-9924-ba10ff3ff1d3",
   "metadata": {},
   "outputs": [],
   "source": [
    "df = pd.read_sql_query(query, conn)"
   ]
  },
  {
   "cell_type": "code",
   "execution_count": 8,
   "id": "26ce1cc5-b832-4a78-95f7-0c9ab1366759",
   "metadata": {},
   "outputs": [
    {
     "name": "stdout",
     "output_type": "stream",
     "text": [
      "\n",
      "--- Basic Sales Summary ---\n",
      "    Product  total_qty  total_revenue\n",
      "0    Laptop        246      1024200.0\n",
      "1   Monitor         63         7560.0\n",
      "2    Marker          6         7200.0\n",
      "3  Keyboard         27         2025.0\n",
      "4      shoe         30          765.0\n",
      "5     Mouse         15          382.5\n"
     ]
    }
   ],
   "source": [
    "print(\"\\n--- Basic Sales Summary ---\")\n",
    "print(df)"
   ]
  },
  {
   "cell_type": "code",
   "execution_count": 9,
   "id": "e76bb36f-d20b-4ecf-9515-ed9c2b49beda",
   "metadata": {},
   "outputs": [
    {
     "name": "stdout",
     "output_type": "stream",
     "text": [
      "\n",
      "Overall Total Revenue: $1,042,132.50\n"
     ]
    }
   ],
   "source": [
    "total_overall_revenue = df['total_revenue'].sum()\n",
    "print(f\"\\nOverall Total Revenue: ${total_overall_revenue:,.2f}\")"
   ]
  },
  {
   "cell_type": "markdown",
   "id": "a5f50e4e-67bd-4c87-90b7-72caae66cdd7",
   "metadata": {},
   "source": [
    "#### BAR CHART"
   ]
  },
  {
   "cell_type": "code",
   "execution_count": 13,
   "id": "07b59178-0097-4258-b530-8d146d77d7a4",
   "metadata": {},
   "outputs": [
    {
     "data": {
      "image/png": "[encoded data removed]",
      "text/plain": [
       "<Figure size 1000x400 with 1 Axes>"
      ]
     },
     "metadata": {},
     "output_type": "display_data"
    }
   ],
   "source": [
    "plt.figure(figsize=(10, 4))\n",
    "df.plot(kind='bar', x='Product', y='total_revenue', legend=False,\n",
    "        title='Total Revenue by Product', ax=plt.gca())\n",
    "plt.xlabel('Product')\n",
    "plt.ylabel('Total Revenue ($)')\n",
    "plt.xticks(rotation=45, ha='right')\n",
    "plt.tight_layout()\n",
    "plt.show()"
   ]
  },
  {
   "cell_type": "markdown",
   "id": "ff282ac2-1791-46ce-a7e5-e2154b80169f",
   "metadata": {},
   "source": [
    "#### SAVING CHART"
   ]
  },
  {
   "cell_type": "code",
   "execution_count": 12,
   "id": "a257724b-d4db-4ffe-b989-9bd5863d920a",
   "metadata": {},
   "outputs": [
    {
     "data": {
      "text/plain": [
       "<Figure size 640x480 with 0 Axes>"
      ]
     },
     "metadata": {},
     "output_type": "display_data"
    }
   ],
   "source": [
    "plt.savefig(\"sales_chart.png\")"
   ]
  },
  {
   "cell_type": "code",
   "execution_count": null,
   "id": "1eec42d6-fdf1-4baf-a5f7-3a37d63d5f1f",
   "metadata": {},
   "outputs": [],
   "source": []
  }
 ],
 "metadata": {
  "kernelspec": {
   "display_name": "Python 3 (ipykernel)",
   "language": "python",
   "name": "python3"
  },
  "language_info": {
   "codemirror_mode": {
    "name": "ipython",
    "version": 3
   },
   "file_extension": ".py",
   "mimetype": "text/x-python",
   "name": "python",
   "nbconvert_exporter": "python",
   "pygments_lexer": "ipython3",
   "version": "3.12.2"
  }
 },
 "nbformat": 4,
 "nbformat_minor": 5
}
